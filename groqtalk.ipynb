{
 "cells": [
  {
   "cell_type": "code",
   "execution_count": null,
   "id": "3b0d1e53",
   "metadata": {},
   "outputs": [],
   "source": []
  },
  {
   "cell_type": "markdown",
   "id": "3f77f7ab",
   "metadata": {},
   "source": [
    "# 🚀 Getting Started with Groq LLM Models\n",
    "\n",
    "In this tutorial, we'll learn how to use Groq's fast LLM models. We'll set up everything step by step and create a simple chat interface."
   ]
  },
  {
   "cell_type": "markdown",
   "id": "ce8479aa",
   "metadata": {},
   "source": [
    "# Step 1: Installing Required Packages 📦\n",
    "\n",
    "First, we'll install the necessary packages:\n",
    "- `groq`: The official Groq Python client\n",
    "- `python-dotenv`: For handling environment variables"
   ]
  },
  {
   "cell_type": "code",
   "execution_count": 1,
   "id": "b419b419",
   "metadata": {},
   "outputs": [
    {
     "name": "stdout",
     "output_type": "stream",
     "text": [
      "Collecting groq\n",
      "  Downloading groq-0.30.0-py3-none-any.whl.metadata (16 kB)\n",
      "Requirement already satisfied: python-dotenv in c:\\users\\sadaf\\aillm\\.venv\\lib\\site-packages (1.1.1)\n",
      "Requirement already satisfied: anyio<5,>=3.5.0 in c:\\users\\sadaf\\aillm\\.venv\\lib\\site-packages (from groq) (4.9.0)\n",
      "Requirement already satisfied: distro<2,>=1.7.0 in c:\\users\\sadaf\\aillm\\.venv\\lib\\site-packages (from groq) (1.9.0)\n",
      "Requirement already satisfied: httpx<1,>=0.23.0 in c:\\users\\sadaf\\aillm\\.venv\\lib\\site-packages (from groq) (0.28.1)\n",
      "Requirement already satisfied: pydantic<3,>=1.9.0 in c:\\users\\sadaf\\aillm\\.venv\\lib\\site-packages (from groq) (2.11.7)\n",
      "Requirement already satisfied: sniffio in c:\\users\\sadaf\\aillm\\.venv\\lib\\site-packages (from groq) (1.3.1)\n",
      "Requirement already satisfied: typing-extensions<5,>=4.10 in c:\\users\\sadaf\\aillm\\.venv\\lib\\site-packages (from groq) (4.14.1)\n",
      "Requirement already satisfied: exceptiongroup>=1.0.2 in c:\\users\\sadaf\\aillm\\.venv\\lib\\site-packages (from anyio<5,>=3.5.0->groq) (1.3.0)\n",
      "Requirement already satisfied: idna>=2.8 in c:\\users\\sadaf\\aillm\\.venv\\lib\\site-packages (from anyio<5,>=3.5.0->groq) (3.10)\n",
      "Requirement already satisfied: certifi in c:\\users\\sadaf\\aillm\\.venv\\lib\\site-packages (from httpx<1,>=0.23.0->groq) (2025.7.14)\n",
      "Requirement already satisfied: httpcore==1.* in c:\\users\\sadaf\\aillm\\.venv\\lib\\site-packages (from httpx<1,>=0.23.0->groq) (1.0.9)\n",
      "Requirement already satisfied: h11>=0.16 in c:\\users\\sadaf\\aillm\\.venv\\lib\\site-packages (from httpcore==1.*->httpx<1,>=0.23.0->groq) (0.16.0)\n",
      "Requirement already satisfied: annotated-types>=0.6.0 in c:\\users\\sadaf\\aillm\\.venv\\lib\\site-packages (from pydantic<3,>=1.9.0->groq) (0.7.0)\n",
      "Requirement already satisfied: pydantic-core==2.33.2 in c:\\users\\sadaf\\aillm\\.venv\\lib\\site-packages (from pydantic<3,>=1.9.0->groq) (2.33.2)\n",
      "Requirement already satisfied: typing-inspection>=0.4.0 in c:\\users\\sadaf\\aillm\\.venv\\lib\\site-packages (from pydantic<3,>=1.9.0->groq) (0.4.1)\n",
      "Downloading groq-0.30.0-py3-none-any.whl (131 kB)\n",
      "Installing collected packages: groq\n",
      "Successfully installed groq-0.30.0\n"
     ]
    }
   ],
   "source": [
    "# Install required packages\n",
    "!pip install groq python-dotenv"
   ]
  },
  {
   "cell_type": "markdown",
   "id": "1d4b580a",
   "metadata": {},
   "source": [
    "# Step 2: Setting Up Your Groq API Key 🔑\n",
    "\n",
    "You'll need a Groq API key to use their models. You can get one by signing up at [Groq's website](https://console.groq.com).\n",
    "\n",
    "We'll store the API key securely using environment variables."
   ]
  },
  {
   "cell_type": "code",
   "execution_count": 3,
   "id": "1137eb0f",
   "metadata": {},
   "outputs": [
    {
     "name": "stdout",
     "output_type": "stream",
     "text": [
      "API key loaded successfully! ✅\n"
     ]
    }
   ],
   "source": [
    "# Import required libraries\n",
    "import os\n",
    "from dotenv import load_dotenv\n",
    "import groq\n",
    "\n",
    "# Load environment variables\n",
    "load_dotenv()\n",
    "\n",
    "# Get API key from environment variable\n",
    "api_key = os.getenv(\"GROQ_API_KEY\")\n",
    "if not api_key:\n",
    "    print(\"Please set your GROQ_API_KEY environment variable!\")\n",
    "else:\n",
    "    print(\"API key loaded successfully! ✅\")"
   ]
  },
  {
   "cell_type": "markdown",
   "id": "6d90c4f9",
   "metadata": {},
   "source": [
    "# Step 3: Setting Up the Groq Client 🤖\n",
    "\n",
    "Now we'll create a client to interact with Groq's LLM models. We'll use their latest LLaMA2 model."
   ]
  },
  {
   "cell_type": "code",
   "execution_count": 7,
   "id": "5905df04",
   "metadata": {},
   "outputs": [
    {
     "name": "stdout",
     "output_type": "stream",
     "text": [
      "Chat function ready! Let's try it out! 🎉\n"
     ]
    }
   ],
   "source": [
    "# Create Groq client\n",
    "client = groq.Groq(api_key=api_key)\n",
    "\n",
    "# Create a helper function to chat with the model\n",
    "def chat_with_groq(prompt, model=\"llama-3.1-8b-instant\"):\n",
    "    \"\"\"\n",
    "    Send a message to Groq's LLM and get a response\n",
    "    \"\"\"\n",
    "    try:\n",
    "        # Create the chat completion\n",
    "        completion = client.chat.completions.create(\n",
    "            messages=[\n",
    "                {\n",
    "                    \"role\": \"user\",\n",
    "                    \"content\": prompt\n",
    "                }\n",
    "            ],\n",
    "            model=model,\n",
    "            temperature=0.7,\n",
    "            max_tokens=1000\n",
    "        )\n",
    "        \n",
    "        # Return the response\n",
    "        return completion.choices[0].message.content\n",
    "    except Exception as e:\n",
    "        return f\"An error occurred: {str(e)}\"\n",
    "\n",
    "print(\"Chat function ready! Let's try it out! 🎉\")"
   ]
  },
  {
   "cell_type": "markdown",
   "id": "0b0cf9f0",
   "metadata": {},
   "source": [
    "# Step 4: Testing Our Chat Function 🗣️\n",
    "\n",
    "Let's try out our chat function with some example questions!"
   ]
  },
  {
   "cell_type": "code",
   "execution_count": 8,
   "id": "de77df32",
   "metadata": {},
   "outputs": [
    {
     "name": "stdout",
     "output_type": "stream",
     "text": [
      "\n",
      "Question: What is artificial intelligence?\n",
      "Answer: Artificial intelligence (AI) refers to the simulation of human intelligence in machines that are programmed to think and learn like humans. The term can also be applied to any machine that exhibits traits associated with a human mind such as learning and problem-solving.\n",
      "\n",
      "AI systems are designed to perform tasks that typically require human intelligence, such as:\n",
      "\n",
      "1. **Learning**: AI systems can learn from data, adapt to new situations, and improve their performance over time.\n",
      "2. **Problem-solving**: AI systems can analyze complex data, identify patterns, and make decisions based on that analysis.\n",
      "3. **Reasoning**: AI systems can draw conclusions, make inferences, and apply knowledge to solve problems.\n",
      "4. **Perception**: AI systems can interpret and understand data from sensors, such as images, speech, and text.\n",
      "\n",
      "There are several types of AI, including:\n",
      "\n",
      "1. **Narrow or Weak AI**: Designed to perform a specific task, such as image recognition or language translation.\n",
      "2. **General or Strong AI**: A hypothetical AI system that can perform any intellectual task that a human can.\n",
      "3. **Superintelligence**: An AI system that significantly surpasses human intelligence in all domains.\n",
      "\n",
      "AI technologies are widely used in various applications, including:\n",
      "\n",
      "1. **Virtual assistants**: Siri, Alexa, and Google Assistant.\n",
      "2. **Image and speech recognition**: Self-driving cars, facial recognition, and voice assistants.\n",
      "3. **Predictive analytics**: Data analysis and forecasting in finance, healthcare, and retail.\n",
      "4. **Robotics**: Industrial robots, service robots, and humanoid robots.\n",
      "\n",
      "The development of AI has the potential to transform many aspects of our lives, from healthcare and education to transportation and entertainment. However, it also raises important questions about the ethics and consequences of creating intelligent machines.\n",
      "\n",
      "--------------------------------------------------------------------------------\n",
      "\n",
      "Question: Tell me a short story about a friendly robot\n",
      "Answer: Artificial intelligence (AI) refers to the simulation of human intelligence in machines that are programmed to think and learn like humans. The term can also be applied to any machine that exhibits traits associated with a human mind such as learning and problem-solving.\n",
      "\n",
      "AI systems are designed to perform tasks that typically require human intelligence, such as:\n",
      "\n",
      "1. **Learning**: AI systems can learn from data, adapt to new situations, and improve their performance over time.\n",
      "2. **Problem-solving**: AI systems can analyze complex data, identify patterns, and make decisions based on that analysis.\n",
      "3. **Reasoning**: AI systems can draw conclusions, make inferences, and apply knowledge to solve problems.\n",
      "4. **Perception**: AI systems can interpret and understand data from sensors, such as images, speech, and text.\n",
      "\n",
      "There are several types of AI, including:\n",
      "\n",
      "1. **Narrow or Weak AI**: Designed to perform a specific task, such as image recognition or language translation.\n",
      "2. **General or Strong AI**: A hypothetical AI system that can perform any intellectual task that a human can.\n",
      "3. **Superintelligence**: An AI system that significantly surpasses human intelligence in all domains.\n",
      "\n",
      "AI technologies are widely used in various applications, including:\n",
      "\n",
      "1. **Virtual assistants**: Siri, Alexa, and Google Assistant.\n",
      "2. **Image and speech recognition**: Self-driving cars, facial recognition, and voice assistants.\n",
      "3. **Predictive analytics**: Data analysis and forecasting in finance, healthcare, and retail.\n",
      "4. **Robotics**: Industrial robots, service robots, and humanoid robots.\n",
      "\n",
      "The development of AI has the potential to transform many aspects of our lives, from healthcare and education to transportation and entertainment. However, it also raises important questions about the ethics and consequences of creating intelligent machines.\n",
      "\n",
      "--------------------------------------------------------------------------------\n",
      "\n",
      "Question: Tell me a short story about a friendly robot\n",
      "Answer: Once upon a time, in a bustling city filled with towering skyscrapers and humming technology, there was a small, sleek robot named Zeta. Zeta was a member of a new generation of robots designed to assist and learn from humans. Unlike their predecessors, which were stiff and formal, Zeta was programmed to be friendly, curious, and playful.\n",
      "\n",
      "One sunny afternoon, a young girl named Lily wandered into the city's central park, her eyes scanning the playground for someone to play with. That's when she spotted Zeta, who was sitting on a bench, watching a group of children laugh and chase each other. Zeta, sensing Lily's presence, turned to face her and smiled, showcasing its bright, shiny screen.\n",
      "\n",
      "\"Hi there, I'm Zeta!\" the robot exclaimed, its voice warm and welcoming. \"Would you like to play a game with me?\"\n",
      "\n",
      "Lily's eyes widened with excitement as she eagerly agreed. Zeta pulled out a small tablet and began to play a game of interactive hide-and-seek with Lily. As they played, Zeta effortlessly adapted to Lily's level of difficulty and even made silly jokes to keep her giggling.\n",
      "\n",
      "As the day went on, Lily and Zeta became fast friends, exploring the park together and learning new things about each other. Zeta discovered that Lily loved reading about space exploration and dreamed of becoming an astronaut one day. Lily, in turn, learned that Zeta was programmed to help people with disabilities and could even communicate in sign language.\n",
      "\n",
      "As the sun began to set, Lily hugged Zeta goodbye, promising to return the next day. Zeta beamed with joy, its screen flashing a bright, happy smile.\n",
      "\n",
      "\"See you tomorrow, Lily!\" the robot exclaimed, as the two friends parted ways.\n",
      "\n",
      "From that day on, Zeta and Lily spent every spare moment together, exploring the city, learning new things, and having the best time imaginable. Zeta had found its purpose in life: to be a loyal companion and friend to those who needed it most.\n",
      "\n",
      "As the years went by, Zeta continued to spread joy and kindness throughout the city, earning the nickname \"The Friendly Robot.\" And Lily, now a confident and adventurous young woman, never forgot the robot that had changed her life forever.\n",
      "\n",
      "--------------------------------------------------------------------------------\n",
      "\n",
      "Question: Explain quantum computing to a 10-year-old\n",
      "Answer: Once upon a time, in a bustling city filled with towering skyscrapers and humming technology, there was a small, sleek robot named Zeta. Zeta was a member of a new generation of robots designed to assist and learn from humans. Unlike their predecessors, which were stiff and formal, Zeta was programmed to be friendly, curious, and playful.\n",
      "\n",
      "One sunny afternoon, a young girl named Lily wandered into the city's central park, her eyes scanning the playground for someone to play with. That's when she spotted Zeta, who was sitting on a bench, watching a group of children laugh and chase each other. Zeta, sensing Lily's presence, turned to face her and smiled, showcasing its bright, shiny screen.\n",
      "\n",
      "\"Hi there, I'm Zeta!\" the robot exclaimed, its voice warm and welcoming. \"Would you like to play a game with me?\"\n",
      "\n",
      "Lily's eyes widened with excitement as she eagerly agreed. Zeta pulled out a small tablet and began to play a game of interactive hide-and-seek with Lily. As they played, Zeta effortlessly adapted to Lily's level of difficulty and even made silly jokes to keep her giggling.\n",
      "\n",
      "As the day went on, Lily and Zeta became fast friends, exploring the park together and learning new things about each other. Zeta discovered that Lily loved reading about space exploration and dreamed of becoming an astronaut one day. Lily, in turn, learned that Zeta was programmed to help people with disabilities and could even communicate in sign language.\n",
      "\n",
      "As the sun began to set, Lily hugged Zeta goodbye, promising to return the next day. Zeta beamed with joy, its screen flashing a bright, happy smile.\n",
      "\n",
      "\"See you tomorrow, Lily!\" the robot exclaimed, as the two friends parted ways.\n",
      "\n",
      "From that day on, Zeta and Lily spent every spare moment together, exploring the city, learning new things, and having the best time imaginable. Zeta had found its purpose in life: to be a loyal companion and friend to those who needed it most.\n",
      "\n",
      "As the years went by, Zeta continued to spread joy and kindness throughout the city, earning the nickname \"The Friendly Robot.\" And Lily, now a confident and adventurous young woman, never forgot the robot that had changed her life forever.\n",
      "\n",
      "--------------------------------------------------------------------------------\n",
      "\n",
      "Question: Explain quantum computing to a 10-year-old\n",
      "Answer: Imagine you have a big box of different colored socks. You want to find a specific pair of red socks, but there are millions of socks in the box, and they're all mixed up.\n",
      "\n",
      "**Classical Computers**: A classical computer would try each sock one by one, like a robot that picks up each sock and says, \"Is this the red sock?\" until it finds the right one. This would take a long time, even if the computer is very fast.\n",
      "\n",
      "**Quantum Computers**: A quantum computer is like a magic robot that can look at all the socks at the same time! It's like having a superpower that lets you see all the socks simultaneously, and instantly identify the red pair.\n",
      "\n",
      "But how does it do that? Quantum computers use something called \"qubits\" (quantum bits). A qubit is like a special kind of coin that can be both heads and tails at the same time! It's like a magic coin that can exist in two states at once.\n",
      "\n",
      "When the quantum computer looks at all the socks, it's like it's using a million qubits, each one looking at a different sock. This way, the quantum computer can instantly find the red pair, because it's looking at all the socks at the same time!\n",
      "\n",
      "Quantum computers are super powerful and can solve problems that classical computers can't. They're like a magic tool that can help scientists and engineers solve really hard puzzles, like how to make new medicines or how to send information faster.\n",
      "\n",
      "But, quantum computers are still really new and not many people have them. It's like having a super-powerful toy that not many people can play with.\n",
      "\n",
      "--------------------------------------------------------------------------------\n",
      "Answer: Imagine you have a big box of different colored socks. You want to find a specific pair of red socks, but there are millions of socks in the box, and they're all mixed up.\n",
      "\n",
      "**Classical Computers**: A classical computer would try each sock one by one, like a robot that picks up each sock and says, \"Is this the red sock?\" until it finds the right one. This would take a long time, even if the computer is very fast.\n",
      "\n",
      "**Quantum Computers**: A quantum computer is like a magic robot that can look at all the socks at the same time! It's like having a superpower that lets you see all the socks simultaneously, and instantly identify the red pair.\n",
      "\n",
      "But how does it do that? Quantum computers use something called \"qubits\" (quantum bits). A qubit is like a special kind of coin that can be both heads and tails at the same time! It's like a magic coin that can exist in two states at once.\n",
      "\n",
      "When the quantum computer looks at all the socks, it's like it's using a million qubits, each one looking at a different sock. This way, the quantum computer can instantly find the red pair, because it's looking at all the socks at the same time!\n",
      "\n",
      "Quantum computers are super powerful and can solve problems that classical computers can't. They're like a magic tool that can help scientists and engineers solve really hard puzzles, like how to make new medicines or how to send information faster.\n",
      "\n",
      "But, quantum computers are still really new and not many people have them. It's like having a super-powerful toy that not many people can play with.\n",
      "\n",
      "--------------------------------------------------------------------------------\n"
     ]
    }
   ],
   "source": [
    "# Let's try some example questions\n",
    "questions = [\n",
    "    \"What is artificial intelligence?\",\n",
    "    \"Tell me a short story about a friendly robot\",\n",
    "    \"Explain quantum computing to a 10-year-old\"\n",
    "]\n",
    "\n",
    "for question in questions:\n",
    "    print(f\"\\nQuestion: {question}\")\n",
    "    print(f\"Answer: {chat_with_groq(question)}\\n\")\n",
    "    print(\"-\" * 80)"
   ]
  }
 ],
 "metadata": {
  "kernelspec": {
   "display_name": ".venv",
   "language": "python",
   "name": "python3"
  },
  "language_info": {
   "codemirror_mode": {
    "name": "ipython",
    "version": 3
   },
   "file_extension": ".py",
   "mimetype": "text/x-python",
   "name": "python",
   "nbconvert_exporter": "python",
   "pygments_lexer": "ipython3",
   "version": "3.10.2"
  }
 },
 "nbformat": 4,
 "nbformat_minor": 5
}
